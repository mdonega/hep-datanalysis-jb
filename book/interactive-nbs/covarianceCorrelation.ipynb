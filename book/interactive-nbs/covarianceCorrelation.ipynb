{
 "cells": [
  {
   "cell_type": "markdown",
   "metadata": {},
   "source": [
    "# Covariance and correlation"
   ]
  },
  {
   "cell_type": "code",
   "execution_count": 1,
   "metadata": {},
   "outputs": [],
   "source": [
    "import numpy as np\n",
    "import matplotlib.pyplot as plt\n",
    "import math\n",
    "%matplotlib inline"
   ]
  },
  {
   "cell_type": "code",
   "execution_count": 2,
   "metadata": {},
   "outputs": [
    {
     "data": {
      "image/png": "[encoded data removed]",
      "text/plain": [
       "<Figure size 432x288 with 1 Axes>"
      ]
     },
     "metadata": {
      "needs_background": "light"
     },
     "output_type": "display_data"
    }
   ],
   "source": [
    "# Number of points\n",
    "n =10000\n",
    "\n",
    "# Generate two uncorrelated gaussian distributed datasets\n",
    "# mu, sigma = 0, 1\n",
    "# x = np.random.normal(mu,sigma, n)\n",
    "# y = np.random.normal(mu,sigma, n)\n",
    "\n",
    "# # Generate two correlated gaussian distributed datasets\n",
    "# mu, sigma = 0, 1\n",
    "# x = np.random.normal(mu,sigma, n)\n",
    "# y = np.random.normal(x, sigma, n)\n",
    "\n",
    "# # Generate two anti-correlated gaussian distributed datasets\n",
    "# mu, sigma = 0, 1\n",
    "# x = np.random.normal(mu,sigma, n)\n",
    "# y = np.random.normal(-x, sigma, n)\n",
    "\n",
    "# Generate two strongly correlated gaussian distributed datasets\n",
    "mu, sigma = 0, 1\n",
    "x = np.random.normal(mu,sigma, n)\n",
    "y = np.random.normal(-x,0.0001, n)\n",
    "\n",
    "# plot them\n",
    "plt.axes().set_aspect('equal')\n",
    "plt.axis((-5,5,-5,5))\n",
    "p = plt.scatter(x,y)"
   ]
  },
  {
   "cell_type": "markdown",
   "metadata": {},
   "source": [
    "# Compute the covariance matrix"
   ]
  },
  {
   "cell_type": "code",
   "execution_count": 3,
   "metadata": {},
   "outputs": [],
   "source": [
    "# paste the two arrays into a panda dataset\n",
    "import pandas as pd\n",
    "data = pd.DataFrame(dict(x=x, y=y))"
   ]
  },
  {
   "cell_type": "code",
   "execution_count": 4,
   "metadata": {},
   "outputs": [
    {
     "name": "stdout",
     "output_type": "stream",
     "text": [
      "          x         y\n",
      "x  0.996748 -0.996749\n",
      "y -0.996749  0.996750\n"
     ]
    }
   ],
   "source": [
    "# compute the covariance matrix\n",
    "print(data.cov())"
   ]
  },
  {
   "cell_type": "code",
   "execution_count": 5,
   "metadata": {},
   "outputs": [
    {
     "name": "stdout",
     "output_type": "stream",
     "text": [
      "x    0.996748\n",
      "y    0.996750\n",
      "dtype: float64\n"
     ]
    }
   ],
   "source": [
    "# the elements on the diagonal are the variances of the datasets x and y\n",
    "print(data.var())"
   ]
  },
  {
   "cell_type": "code",
   "execution_count": 6,
   "metadata": {},
   "outputs": [],
   "source": [
    "# the off diagonal element(s) quantify the dependence between x and y\n",
    "# the covariance matrix is symmetric "
   ]
  },
  {
   "cell_type": "markdown",
   "metadata": {},
   "source": [
    "# Compute the correlation coefficient"
   ]
  },
  {
   "cell_type": "code",
   "execution_count": 7,
   "metadata": {},
   "outputs": [
    {
     "data": {
      "text/plain": [
       "array([[ 1.        , -0.99999999],\n",
       "       [-0.99999999,  1.        ]])"
      ]
     },
     "execution_count": 7,
     "metadata": {},
     "output_type": "execute_result"
    }
   ],
   "source": [
    "np.corrcoef(x,y)"
   ]
  },
  {
   "cell_type": "code",
   "execution_count": 8,
   "metadata": {},
   "outputs": [],
   "source": [
    "# this you can compute by normalizing the covariance to the sqrt of the variances"
   ]
  },
  {
   "cell_type": "code",
   "execution_count": 9,
   "metadata": {},
   "outputs": [
    {
     "name": "stdout",
     "output_type": "stream",
     "text": [
      "Correlation = -0.9999999949905587\n"
     ]
    }
   ],
   "source": [
    "CovXY =  data.cov()\n",
    "Varx = data.var()[0]\n",
    "Vary = data.var()[1]\n",
    "print(f\"Correlation = {CovXY.iloc[0,1]/math.sqrt(Varx * Vary)}\")"
   ]
  }
 ],
 "metadata": {
  "interpreter": {
   "hash": "812a4947319ff18d1342863a73175ecb805e9a54c66f0eb7b0590365505c6c8f"
  },
  "kernelspec": {
   "display_name": "Python 3",
   "language": "python",
   "name": "python3"
  },
  "language_info": {
   "codemirror_mode": {
    "name": "ipython",
    "version": 3
   },
   "file_extension": ".py",
   "mimetype": "text/x-python",
   "name": "python",
   "nbconvert_exporter": "python",
   "pygments_lexer": "ipython3",
   "version": "3.8.5"
  }
 },
 "nbformat": 4,
 "nbformat_minor": 1
}
