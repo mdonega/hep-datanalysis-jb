{
 "cells": [
  {
   "cell_type": "markdown",
   "id": "88a1ebad",
   "metadata": {},
   "source": [
    "# Conditional Probability"
   ]
  },
  {
   "cell_type": "markdown",
   "id": "eb55676f",
   "metadata": {},
   "source": [
    "Suppose you draw a card from a deck of 52 cards and it’s red. \n",
    "What is the probability that it is also a diamond ?\n",
    "\n",
    "Suppose you draw a card from a deck of 52 cards and it’s red.\n",
    "What is the probability that it is a queen ?\n",
    "\n",
    "Suppose you draw a card from a deck of 52 cards and it’s red.\n",
    "What is the probability that it is a queen of diamonds ?"
   ]
  },
  {
   "cell_type": "code",
   "execution_count": 1,
   "id": "a67d3d7c",
   "metadata": {},
   "outputs": [],
   "source": [
    "import random"
   ]
  },
  {
   "cell_type": "code",
   "execution_count": 2,
   "id": "9721032c",
   "metadata": {},
   "outputs": [],
   "source": [
    "suits  = [\"diamonds\", \"clubs\", \"spades\", \"hearts\"]\n",
    "reds   = [\"diamonds\", \"hearts\"]\n",
    "blacks = [\"clubs\", \"spades\"]\n",
    "cards  = [\"1\", \"2\", \"3\", \"4\", \"5\", \"6\", \"7\", \"8\", \"9\", \"10\", \"J\", \"Q\", \"K\"]"
   ]
  },
  {
   "cell_type": "code",
   "execution_count": 3,
   "id": "c61771bd",
   "metadata": {},
   "outputs": [
    {
     "name": "stdout",
     "output_type": "stream",
     "text": [
      "Number of cards in the deck: 52\n"
     ]
    }
   ],
   "source": [
    "print (\"Number of cards in the deck:\", len(suits)*len(cards))"
   ]
  },
  {
   "cell_type": "code",
   "execution_count": 4,
   "id": "8ecf034f",
   "metadata": {},
   "outputs": [
    {
     "name": "stdout",
     "output_type": "stream",
     "text": [
      "Total number of draws                 =  999999\n",
      "Total number of diamonds              =  500456\n",
      "Total number of diamons queens        =  250030\n",
      "Total number of red queens            =  38556\n",
      "Total number of red queens of diamons =  19413\n"
     ]
    }
   ],
   "source": [
    "# initialize couters\n",
    "c_draws   = 0\n",
    "c_reds    = 0\n",
    "c_reds_and_diamonds = 0\n",
    "c_reds_and_queens   = 0\n",
    "c_queens_and_diamonds_and_red = 0\n",
    "\n",
    "# draw the cards at random \n",
    "n_draws = 1000000\n",
    "for i in range(1, n_draws):   \n",
    "    \n",
    "    c_draws += 1\n",
    "    s = random.choice(suits)\n",
    "    c = random.choice(cards)\n",
    "    # print (s, c)    \n",
    "    \n",
    "    # select the cards\n",
    "    if s in reds:\n",
    "        c_reds += 1\n",
    "\n",
    "        if s  == \"diamonds\":\n",
    "            c_reds_and_diamonds += 1\n",
    "        \n",
    "        if c == \"Q\":\n",
    "            c_reds_and_queens += 1\n",
    "            \n",
    "        if s  == \"diamonds\" and c == \"Q\":\n",
    "            c_queens_and_diamonds_and_red += 1\n",
    "\n",
    "print (\"Total number of draws                 = \", c_draws)\n",
    "print (\"Total number of diamonds              = \", c_reds)\n",
    "print (\"Total number of diamons queens        = \", c_reds_and_diamonds)\n",
    "print (\"Total number of red queens            = \", c_reds_and_queens)\n",
    "print (\"Total number of red queens of diamons = \", c_queens_and_diamonds_and_red)\n"
   ]
  },
  {
   "cell_type": "code",
   "execution_count": 5,
   "id": "4d3af9ef",
   "metadata": {},
   "outputs": [
    {
     "name": "stdout",
     "output_type": "stream",
     "text": [
      "Suppose you draw a card from a deck of 52 cards and it’s red.\n",
      "What is the probability that it is also a diamond ?\n",
      "Frequency                =  0.5\n"
     ]
    }
   ],
   "source": [
    "print (\"\"\"Suppose you draw a card from a deck of 52 cards and it’s red.\\nWhat is the probability that it is also a diamond ?\"\"\")\n",
    "\n",
    "print (\"Frequency                = \", round(c_reds_and_diamonds/float(c_reds),3))"
   ]
  },
  {
   "cell_type": "code",
   "execution_count": 6,
   "id": "fbe2fc89",
   "metadata": {},
   "outputs": [
    {
     "name": "stdout",
     "output_type": "stream",
     "text": [
      "Suppose you draw a card from a deck of 52 cards and it’s red.\n",
      "What is the probability that it is a queen ?\n",
      "Frequency                =  0.077\n"
     ]
    }
   ],
   "source": [
    "print (\"Suppose you draw a card from a deck of 52 cards and it’s red.\\nWhat is the probability that it is a queen ?\")\n",
    "print (\"Frequency                = \", round(c_reds_and_queens/float(c_reds),3))"
   ]
  },
  {
   "cell_type": "code",
   "execution_count": 7,
   "id": "b29f70da",
   "metadata": {},
   "outputs": [
    {
     "name": "stdout",
     "output_type": "stream",
     "text": [
      "Suppose you draw a card from a deck of 52 cards and it’s red.\n",
      "What is the probability that it is a queen of diamonds ?\n",
      "Frequency                =  0.039\n"
     ]
    }
   ],
   "source": [
    "print(\"Suppose you draw a card from a deck of 52 cards and it’s red.\\nWhat is the probability that it is a queen of diamonds ?\")\n",
    "print (\"Frequency                = \", round(c_queens_and_diamonds_and_red/float(c_reds),3))"
   ]
  },
  {
   "cell_type": "code",
   "execution_count": null,
   "id": "6640f767",
   "metadata": {},
   "outputs": [],
   "source": []
  }
 ],
 "metadata": {
  "kernelspec": {
   "display_name": "Python 3 (ipykernel)",
   "language": "python",
   "name": "python3"
  },
  "language_info": {
   "codemirror_mode": {
    "name": "ipython",
    "version": 3
   },
   "file_extension": ".py",
   "mimetype": "text/x-python",
   "name": "python",
   "nbconvert_exporter": "python",
   "pygments_lexer": "ipython3",
   "version": "3.9.2"
  }
 },
 "nbformat": 4,
 "nbformat_minor": 5
}
