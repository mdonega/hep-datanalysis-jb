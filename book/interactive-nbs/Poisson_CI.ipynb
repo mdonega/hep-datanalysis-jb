{
 "cells": [
  {
   "cell_type": "markdown",
   "metadata": {},
   "source": [
    "# Poisson Confidence Intervals"
   ]
  },
  {
   "cell_type": "markdown",
   "metadata": {},
   "source": [
    "Example: You observe 9 events (bkg = 0), what is the symmetric confidence interval at 90% CL ?"
   ]
  },
  {
   "cell_type": "code",
   "execution_count": 1,
   "metadata": {},
   "outputs": [
    {
     "name": "stdout",
     "output_type": "stream",
     "text": [
      "Read vertically the Confidence Belt for Nobs =  9 for a CL = 0.9 % (i.e. left = 0.05 and right =0.05)\n",
      "Confidence Interval = [ 4.7 , 15.71 ]\n"
     ]
    }
   ],
   "source": [
    "import numpy as np\n",
    "from scipy.stats import poisson\n",
    "import matplotlib.pyplot as plt\n",
    "%matplotlib inline\n",
    "\n",
    "def PoissonPDFS(k, mu):\n",
    "    return poisson.pmf(k, mu)\n",
    "\n",
    "\n",
    "n_obs = 9\n",
    "CL = 0.90\n",
    "prob_left = (1.-CL)/2.\n",
    "prob_right = (1.-CL)/2.\n",
    "\n",
    "limits = \"(i.e. left = \" + \"{:.2f}\".format(prob_left) + \" and right =\" + \"{:.2f}\".format(prob_right) +\")\"\n",
    "print (\"Read vertically the Confidence Belt for Nobs = \", n_obs, \"for a CL =\",CL, \"%\", limits)\n",
    "\n",
    "\n",
    "max_obs = 20\n",
    "k = np.arange(0, max_obs, 1)\n",
    "\n",
    "# Compute left boundary\n",
    "Signal_left = 0\n",
    "s = 0\n",
    "scan_step = 0.01\n",
    "ck = True\n",
    "while (s < 2000) and (ck):\n",
    "    Signal = s * scan_step\n",
    "    # print (\"\\nSignal = \", Signal)\n",
    "\n",
    "    Nobs = poisson.pmf(k, Signal)\n",
    "\n",
    "    sum = 0\n",
    "    for i in range(n_obs): # range stops at n_obs -1\n",
    "        sum+=Nobs[i]\n",
    "        # print(i, sum)\n",
    "    \n",
    "    if (sum < 1-prob_left):\n",
    "        ck = False\n",
    "        # print (Signal, sum)\n",
    "        Signal_left = Signal\n",
    "\n",
    "    s+=1\n",
    "\n",
    "# Compute right boundary\n",
    "Signal_right = 0\n",
    "s = 0\n",
    "scan_step = 0.01\n",
    "ck = True\n",
    "while (s < 2000) and (ck):\n",
    "    Signal = s * scan_step\n",
    "    # print (\"\\nSignal = \", Signal)\n",
    "\n",
    "    Nobs = poisson.pmf(k, Signal)\n",
    "\n",
    "    sum = 0\n",
    "    for i in range(n_obs+1): # range stops at n_obs+1 -1\n",
    "        sum+=Nobs[i]\n",
    "        # print(i, sum)\n",
    "    \n",
    "    if (sum < prob_left):\n",
    "        ck = False\n",
    "        # print (Signal, sum)\n",
    "        Signal_right = Signal\n",
    "\n",
    "    s+=1\n",
    "    \n",
    "print (\"Confidence Interval = [\", Signal_left, \",\", Signal_right, \"]\" )\n",
    "\n",
    "\n"
   ]
  },
  {
   "cell_type": "markdown",
   "metadata": {},
   "source": [
    "# Build horizontally the Poisson Confidence Belts"
   ]
  },
  {
   "cell_type": "code",
   "execution_count": 2,
   "metadata": {},
   "outputs": [
    {
     "name": "stdout",
     "output_type": "stream",
     "text": [
      "Build horizontally the Confidence Belt for a CL = 0.9 % (i.e. left = 0.05 and right =0.05)\n"
     ]
    },
    {
     "data": {
      "image/png": "[encoded data removed]",
      "text/plain": [
       "<Figure size 432x288 with 1 Axes>"
      ]
     },
     "metadata": {
      "needs_background": "light"
     },
     "output_type": "display_data"
    }
   ],
   "source": [
    "import numpy as np\n",
    "from scipy.stats import poisson\n",
    "import matplotlib.pyplot as plt\n",
    "%matplotlib inline\n",
    "\n",
    "def PoissonPDFS(k, mu):\n",
    "    return poisson.pmf(k, mu)\n",
    "\n",
    "Background = 0\n",
    "\n",
    "CL = 0.90\n",
    "prob_left = (1.-CL)/2.\n",
    "prob_right = (1.-CL)/2.\n",
    "\n",
    "\n",
    "limits = \"(i.e. left = \" + \"{:.2f}\".format(prob_left) + \" and right =\" + \"{:.2f}\".format(prob_right) +\")\"\n",
    "print (\"Build horizontally the Confidence Belt for a CL =\",CL, \"%\", limits)\n",
    "\n",
    "sigs    = [] # array to collect the scanned signals\n",
    "lbounds = [] # array to collect the left bounds\n",
    "rbounds = [] # array to collect the right bounds\n",
    "\n",
    "max_obs = 100\n",
    "k = np.arange(0, max_obs, 1)\n",
    "\n",
    "left_bound = 0\n",
    "right_bound = 0\n",
    "s = 0\n",
    "\n",
    "scan_step = 0.1\n",
    "for s in range(1000):\n",
    "\n",
    "    Signal = s * scan_step \n",
    "    # print (\"\\nSignal = \", Signal)\n",
    "\n",
    "    k = np.arange(0, max_obs, 1)\n",
    "    Nobs = poisson.pmf(k, Signal+ Background)\n",
    "    \n",
    "    # left bound\n",
    "    i = 0\n",
    "    pl = 0\n",
    "    while (pl < prob_left) and (i < max_obs):\n",
    "        # print(i, Nobs[i], pl)\n",
    "        pl += Nobs[i]\n",
    "        i += 1                \n",
    "    if (i < max_obs): \n",
    "        # print (\"prob left\", i-1, pl-Nobs[i-1])\n",
    "        left_bound = i-1 # pl-Nobs[i-1]\n",
    "\n",
    "    # right bound\n",
    "    i = 0\n",
    "    pr = 0\n",
    "    while (pr < 1-prob_right) and (i < max_obs):\n",
    "        # print(i, Nobs[i], pr)\n",
    "        pr += Nobs[i]\n",
    "        i += 1                \n",
    "    if (i < max_obs): \n",
    "        # print (\"prob right\", i, pr-Nobs[i])\n",
    "        right_bound = i-1 # pr-Nobs[i]\n",
    "    \n",
    "    # sigstring = \"Signal = {:.2f}\".format(Signal) \n",
    "    # print (sigstring, \"Bounds = [\", left_bound, \",\", right_bound, \"]\")\n",
    "\n",
    "    sigs.append(Signal)\n",
    "    lbounds.append(left_bound)\n",
    "    rbounds.append(right_bound)\n",
    "\n",
    "# print (lbounds,\"\\n\")\n",
    "# print (rbounds,\"\\n\")\n",
    "# print (sigs)\n",
    "import matplotlib.pyplot as plt\n",
    "plt.plot(lbounds,sigs, 'b-')\n",
    "plt.plot(rbounds,sigs, 'r-')\n",
    "plt.axis([0, 15, 0, 15])\n",
    "# plt.axis([6,10, 0, 16])\n",
    "#plt.axis([8,11, 15, 16])\n",
    "plt.xticks(np.arange(0,16, 1.0))\n",
    "plt.yticks(np.arange(0,16, 1.0))\n",
    "plt.grid()\n",
    "plt.show()"
   ]
  },
  {
   "cell_type": "markdown",
   "metadata": {},
   "source": [
    "# Build horizontally the Poisson one sided Confidence Intervals (left/right i.e. upper/lower)"
   ]
  },
  {
   "cell_type": "code",
   "execution_count": 3,
   "metadata": {},
   "outputs": [
    {
     "name": "stdout",
     "output_type": "stream",
     "text": [
      "Build horizontally the Confidence Belt for a CL = 0.9 % (i.e. left = 0.10 and right =0.10)\n"
     ]
    },
    {
     "data": {
      "image/png": "[encoded data removed]",
      "text/plain": [
       "<Figure size 432x288 with 1 Axes>"
      ]
     },
     "metadata": {
      "needs_background": "light"
     },
     "output_type": "display_data"
    },
    {
     "data": {
      "image/png": "[encoded data removed]",
      "text/plain": [
       "<Figure size 432x288 with 1 Axes>"
      ]
     },
     "metadata": {
      "needs_background": "light"
     },
     "output_type": "display_data"
    }
   ],
   "source": [
    "import numpy as np\n",
    "from scipy.stats import poisson\n",
    "import matplotlib.pyplot as plt\n",
    "%matplotlib inline\n",
    "\n",
    "def PoissonPDFS(k, mu):\n",
    "    return poisson.pmf(k, mu)\n",
    "\n",
    "Background = 0\n",
    "\n",
    "CL = 0.90\n",
    "prob_left = (1.-CL)\n",
    "prob_right = (1.-CL)\n",
    "\n",
    "\n",
    "limits = \"(i.e. left = \" + \"{:.2f}\".format(prob_left) + \" and right =\" + \"{:.2f}\".format(prob_right) +\")\"\n",
    "print (\"Build horizontally the Confidence Belt for a CL =\",CL, \"%\", limits)\n",
    "\n",
    "sigs    = [] # array to collect the scanned signals\n",
    "lbounds = [] # array to collect the left bounds\n",
    "rbounds = [] # array to collect the right bounds\n",
    "\n",
    "max_obs = 100\n",
    "k = np.arange(0, max_obs, 1)\n",
    "\n",
    "left_bound = 0\n",
    "right_bound = 0\n",
    "s = 0\n",
    "\n",
    "scan_step = 0.1\n",
    "for s in range(1000):\n",
    "\n",
    "    Signal = s * scan_step \n",
    "    # print (\"\\nSignal = \", Signal)\n",
    "\n",
    "    k = np.arange(0, max_obs, 1)\n",
    "    Nobs = poisson.pmf(k, Signal+ Background)\n",
    "    \n",
    "    # left bound\n",
    "    i = 0\n",
    "    pl = 0\n",
    "    while (pl < prob_left) and (i < max_obs):\n",
    "        # print(i, Nobs[i], pl)\n",
    "        pl += Nobs[i]\n",
    "        i += 1                \n",
    "    if (i < max_obs): \n",
    "        # print (\"prob left\", i-1, pl-Nobs[i-1])\n",
    "        left_bound = i-1 # pl-Nobs[i-1]\n",
    "\n",
    "    # right bound\n",
    "    i = 0\n",
    "    pr = 0\n",
    "    while (pr < 1-prob_right) and (i < max_obs):\n",
    "        # print(i, Nobs[i], pr)\n",
    "        pr += Nobs[i]\n",
    "        i += 1                \n",
    "    if (i < max_obs): \n",
    "        # print (\"prob right\", i, pr-Nobs[i])\n",
    "        right_bound = i-1 # pr-Nobs[i]\n",
    "    \n",
    "    # sigstring = \"Signal = {:.2f}\".format(Signal) \n",
    "    # print (sigstring, \"Bounds = [\", left_bound, \",\", right_bound, \"]\")\n",
    "\n",
    "    sigs.append(Signal)\n",
    "    lbounds.append(left_bound)\n",
    "    rbounds.append(right_bound)\n",
    "\n",
    "# print (lbounds,\"\\n\")\n",
    "# print (rbounds,\"\\n\")\n",
    "# print (sigs)\n",
    "import matplotlib.pyplot as plt\n",
    "plt.plot(lbounds,sigs, 'b-')\n",
    "plt.axis([0, 15, 0, 15])\n",
    "# plt.axis([6,10, 0, 16])\n",
    "#plt.axis([8,11, 15, 16])\n",
    "plt.xticks(np.arange(0,16, 1.0))\n",
    "plt.yticks(np.arange(0,16, 1.0))\n",
    "plt.grid()\n",
    "plt.show()\n",
    "\n",
    "plt.plot(rbounds,sigs, 'r-')\n",
    "plt.axis([0, 15, 0, 15])\n",
    "# plt.axis([6,10, 0, 16])\n",
    "#plt.axis([8,11, 15, 16])\n",
    "plt.xticks(np.arange(0,16, 1.0))\n",
    "plt.yticks(np.arange(0,16, 1.0))\n",
    "plt.grid()\n",
    "plt.show()"
   ]
  },
  {
   "cell_type": "code",
   "execution_count": null,
   "metadata": {},
   "outputs": [],
   "source": []
  }
 ],
 "metadata": {
  "kernelspec": {
   "display_name": "Python 3",
   "language": "python",
   "name": "python3"
  },
  "language_info": {
   "codemirror_mode": {
    "name": "ipython",
    "version": 3
   },
   "file_extension": ".py",
   "mimetype": "text/x-python",
   "name": "python",
   "nbconvert_exporter": "python",
   "pygments_lexer": "ipython3",
   "version": "3.8.5"
  }
 },
 "nbformat": 4,
 "nbformat_minor": 4
}
