{
 "cells": [
  {
   "cell_type": "markdown",
   "metadata": {},
   "source": [
    "# Compute the bayesian upper limit for a gaussian near the physical boundary"
   ]
  },
  {
   "cell_type": "code",
   "execution_count": 1,
   "metadata": {
    "scrolled": false
   },
   "outputs": [
    {
     "name": "stdout",
     "output_type": "stream",
     "text": [
      "theta_obs numerator denominator Ratio limit\n",
      "-4.000000 0.000030 0.000032 0.950079 0.660000\n",
      "-3.733333 0.000090 0.000094 0.950208 0.697000\n",
      "-3.466667 0.000250 0.000263 0.950162 0.737000\n",
      "-3.200000 0.000653 0.000687 0.950064 0.781000\n",
      "-2.933333 0.001593 0.001677 0.950002 0.830000\n",
      "-2.666667 0.003639 0.003830 0.950031 0.885000\n",
      "-2.400000 0.007789 0.008198 0.950173 0.947000\n",
      "-2.133333 0.015628 0.016449 0.950086 1.015000\n",
      "-1.866667 0.029429 0.030974 0.950124 1.092000\n",
      "-1.600000 0.052065 0.054799 0.950096 1.178000\n",
      "-1.333333 0.086662 0.091211 0.950124 1.275000\n",
      "-1.066667 0.135912 0.143061 0.950025 1.383000\n",
      "-0.800000 0.201272 0.211855 0.950045 1.505000\n",
      "-0.533333 0.282061 0.296901 0.950017 1.641000\n",
      "-0.266667 0.375148 0.394863 0.950071 1.793000\n",
      "0.000000 0.475002 0.500000 0.950004 1.960000\n",
      "0.266667 0.574901 0.605137 0.950034 2.144000\n",
      "0.533333 0.668002 0.703099 0.950083 2.344000\n",
      "0.800000 0.748771 0.788145 0.950042 2.558000\n",
      "1.066667 0.814162 0.856939 0.950082 2.786000\n",
      "1.333333 0.863434 0.908789 0.950093 3.025000\n",
      "1.600000 0.898037 0.945201 0.950102 3.273000\n",
      "1.866667 0.920602 0.969026 0.950028 3.527000\n",
      "2.133333 0.934454 0.983551 0.950081 3.787000\n",
      "2.400000 0.942229 0.991802 0.950016 4.049000\n",
      "2.666667 0.946425 0.996170 0.950064 4.314000\n",
      "2.933333 0.948510 0.998323 0.950103 4.580000\n",
      "3.200000 0.949431 0.999313 0.950084 4.846000\n",
      "3.466667 0.949786 0.999737 0.950036 5.112000\n",
      "3.733333 0.949989 0.999906 0.950079 5.379000\n",
      "4.000000 0.949983 0.999968 0.950014 5.645000\n"
     ]
    },
    {
     "data": {
      "image/png": "[encoded data removed]",
      "text/plain": [
       "<Figure size 432x288 with 1 Axes>"
      ]
     },
     "metadata": {
      "needs_background": "light"
     },
     "output_type": "display_data"
    }
   ],
   "source": [
    "import numpy as np\n",
    "from scipy.stats import norm\n",
    "import matplotlib.pyplot as plt\n",
    "%matplotlib inline\n",
    "\n",
    "# Resolution\n",
    "sigma_thetahat = 1.0\n",
    "\n",
    "confidenceinterval = 0.95\n",
    "\n",
    "def denominator(mu):  \n",
    "    return 1-norm.cdf(0, mu, sigma_thetahat)\n",
    "\n",
    "def numerator(mu, up):\n",
    "    return norm.cdf(up, mu, sigma_thetahat) - norm.cdf(0, mu, sigma_thetahat) \n",
    "\n",
    "prob_left  = 1 - confidenceinterval\n",
    "\n",
    "theta_min =  -4.0\n",
    "theta_max =   4.0\n",
    "\n",
    "theta_obsmin = -4.0\n",
    "theta_obsmax = 4.0\n",
    "\n",
    "thetas  = [] # array to collect the scanned theta\n",
    "lbounds = [] # array to collect the left bounds\n",
    "bbounds = [] # bayesian bounds\n",
    "\n",
    "nsteps = 30\n",
    "step = 0.2\n",
    "\n",
    "print (\"theta_obs\", \"numerator\", \"denominator\", \"Ratio\", \"limit\")\n",
    "for i in range(nsteps+1):    \n",
    "    \n",
    "    theta = theta_min + i/nsteps*(theta_max-theta_min)\n",
    "    thetas.append(theta)\n",
    "    \n",
    "    # upper limit\n",
    "    left_bound  = norm.ppf(prob_left, loc=theta, scale=sigma_thetahat)\n",
    "    # print (theta, left_bound, right_bound)\n",
    "    lbounds.append(left_bound)\n",
    "\n",
    "    # bayesian upper limit: solve numerically to find the upper limit\n",
    "    up = 0.001    \n",
    "    scanstep = 0.001\n",
    "    while (numerator(theta,up)/denominator(theta) < confidenceinterval) and (up < theta+5) :\n",
    "        # print (numerator(theta,up), denominator(theta), numerator(theta,up)/denominator(theta), up)\n",
    "        up+=scanstep    \n",
    "    stringa = \"{:.6f}\".format(theta) + \" {:.6f}\".format(numerator(theta,up)) + \" {:.6f}\".format(denominator(theta)) + \" {:.6f}\".format(numerator(theta,up)/denominator(theta)) + \" {:.6f}\".format(up) \n",
    "    print (stringa)\n",
    "    bbounds.append(up)\n",
    "    \n",
    "    \n",
    "plt.plot(lbounds,thetas, 'b-')\n",
    "plt.plot(thetas,bbounds, 'r-')\n",
    "plt.axis([-4,2,-1,5])\n",
    "plt.xticks(np.arange(-4,3, 1.0))\n",
    "plt.yticks(np.arange(-1,6, 1.0))\n",
    "\n",
    "plt.grid()\n",
    "plt.show()\n",
    "\n"
   ]
  },
  {
   "cell_type": "code",
   "execution_count": 25,
   "metadata": {},
   "outputs": [
    {
     "name": "stdout",
     "output_type": "stream",
     "text": [
      "0.9772498680518208\n"
     ]
    },
    {
     "data": {
      "text/plain": [
       "<matplotlib.collections.PolyCollection at 0x7f8b59197c10>"
      ]
     },
     "execution_count": 25,
     "metadata": {},
     "output_type": "execute_result"
    },
    {
     "data": {
      "image/png": "[encoded data removed]",
      "text/plain": [
       "<Figure size 432x288 with 1 Axes>"
      ]
     },
     "metadata": {
      "needs_background": "light"
     },
     "output_type": "display_data"
    }
   ],
   "source": [
    "# Example plot to show the ratio Num / Den\n",
    "mu = -2\n",
    "sigma = 1\n",
    "x1 = np.linspace(norm.ppf(0.0001,mu, sigma), norm.ppf(0.9999,mu, sigma), 100)\n",
    "x2 = np.linspace(norm.ppf(norm.cdf(0,mu, sigma),mu, sigma), norm.ppf(0.9999,mu, sigma),100)\n",
    "x3 = np.linspace(norm.ppf(norm.cdf(0,mu, sigma),mu, sigma), norm.ppf(0.995,mu, sigma),100)\n",
    "y1 = norm.pdf(x1,mu, sigma)\n",
    "y2 = norm.pdf(x2,mu, sigma)\n",
    "y3 = norm.pdf(x3,mu, sigma)\n",
    "print(norm.cdf(0,mu, sigma))\n",
    "plt.plot(x1, y1,'k--')\n",
    "plt.plot(x2, y2,'b-')\n",
    "plt.plot(x3, y3,'r-')\n",
    "p1x = np.array([0,0])\n",
    "p1y = np.array([0,0.15])\n",
    "plt.plot(p1x, p1y, color='r' )\n",
    "plt.fill_between(x2,y2,color='b')\n",
    "plt.fill_between(x3,y3,color='r')\n"
   ]
  },
  {
   "cell_type": "code",
   "execution_count": null,
   "metadata": {},
   "outputs": [],
   "source": []
  }
 ],
 "metadata": {
  "kernelspec": {
   "display_name": "Python 3",
   "language": "python",
   "name": "python3"
  },
  "language_info": {
   "codemirror_mode": {
    "name": "ipython",
    "version": 3
   },
   "file_extension": ".py",
   "mimetype": "text/x-python",
   "name": "python",
   "nbconvert_exporter": "python",
   "pygments_lexer": "ipython3",
   "version": "3.8.5"
  }
 },
 "nbformat": 4,
 "nbformat_minor": 4
}
