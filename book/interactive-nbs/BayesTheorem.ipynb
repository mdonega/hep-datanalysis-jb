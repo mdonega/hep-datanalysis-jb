{
 "cells": [
  {
   "cell_type": "markdown",
   "metadata": {},
   "source": [
    "# Bayes Theorem\n",
    "\n",
    "A doctor runs a test on a patient for a rare desease and the results is positive.\n",
    "\n",
    "The test has an efficiency detection of 99% and a false positive rate of 1%.\n",
    "\n",
    "Should the patient be worried ? The wrong impressions is that the patient has 99% probability to be sick.\n",
    "\n",
    "What you need to have is some prior knowledge about the desease. Looking in literature it turns out that the disease affects the population only one person every thousand.\n",
    "\n",
    "Let's try to apply the Bayes theorem:"
   ]
  },
  {
   "cell_type": "code",
   "execution_count": 1,
   "metadata": {},
   "outputs": [
    {
     "name": "stdout",
     "output_type": "stream",
     "text": [
      "Probability to be sick being tested positive = 0.09016393442622951\n"
     ]
    }
   ],
   "source": [
    "# P(positive | sick)\n",
    "likelihood = 0.99 \n",
    "\n",
    "# P(sick)\n",
    "prior = 0.001\n",
    "\n",
    "# Normalization = P(positive | sick)P(sick) + P(positive | healthy)P(healthy)\n",
    "normalization = 0.99 * 0.001 + 0.01 * 0.999\n",
    "\n",
    "# Posterior = P(sick | positive) \n",
    "# This is what you really want to know: given that you have been tested positive, \n",
    "# what is the probability that you are really sick\n",
    "P = likelihood * prior / normalization\n",
    "\n",
    "print (f\"Probability to be sick being tested positive = {P}\")"
   ]
  },
  {
   "cell_type": "markdown",
   "metadata": {},
   "source": [
    "One way to look at the apparently surprising result: a test with a false positive rate of 1% means that every 1000 people tested 10 will be positive, while the number of sick people in a population of 1000 should be only 1. You are among the 10 testes positive. The probability to be the sick one is 10%."
   ]
  },
  {
   "cell_type": "markdown",
   "metadata": {},
   "source": [
    "What if the doctor repeats the test and gets a positive a second time ?\n",
    "The prior now is different: you've being tested positive before so you should use as prior the posterior of the previous test"
   ]
  },
  {
   "cell_type": "code",
   "execution_count": 2,
   "metadata": {},
   "outputs": [
    {
     "name": "stdout",
     "output_type": "stream",
     "text": [
      "Probability to be sick being tested positive a second time = 0.9073319755600815\n"
     ]
    }
   ],
   "source": [
    "# P(positive | sick)\n",
    "likelihood = 0.99 \n",
    "\n",
    "# P(sick)\n",
    "prior = 0.09\n",
    "\n",
    "# Normalization = P(positive | sick)P(sick) + P(positive | healthy)P(healthy)\n",
    "normalization = 0.99 * 0.09 + 0.01 * 0.91\n",
    "\n",
    "# Posterior = P(sick | positive) \n",
    "# This is what you really want to know: given that you have been tested positive, \n",
    "# what is the probability that you are really sick\n",
    "P = likelihood * prior / normalization\n",
    "\n",
    "print(f\"Probability to be sick being tested positive a second time = {P}\")"
   ]
  },
  {
   "cell_type": "markdown",
   "metadata": {},
   "source": [
    "The extra knowledge shifts dramatically the probability."
   ]
  }
 ],
 "metadata": {
  "kernelspec": {
   "display_name": "Python 3 (ipykernel)",
   "language": "python",
   "name": "python3"
  },
  "language_info": {
   "codemirror_mode": {
    "name": "ipython",
    "version": 3
   },
   "file_extension": ".py",
   "mimetype": "text/x-python",
   "name": "python",
   "nbconvert_exporter": "python",
   "pygments_lexer": "ipython3",
   "version": "3.9.2"
  }
 },
 "nbformat": 4,
 "nbformat_minor": 1
}
