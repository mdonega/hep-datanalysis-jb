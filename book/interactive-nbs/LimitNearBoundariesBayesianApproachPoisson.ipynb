{
 "cells": [
  {
   "cell_type": "markdown",
   "metadata": {},
   "source": [
    "# Compute the bayesian upper limit for a Poisson near the physical boundary"
   ]
  },
  {
   "cell_type": "code",
   "execution_count": 4,
   "metadata": {},
   "outputs": [
    {
     "name": "stdout",
     "output_type": "stream",
     "text": [
      "95% CL Upper limit on Nobs =  6  with an expected background vb =  3 \n",
      "vs_up =  8.91\n"
     ]
    }
   ],
   "source": [
    "import numpy as np\n",
    "from scipy.stats import poisson\n",
    "import matplotlib.pyplot as plt\n",
    "from math import exp\n",
    "%matplotlib inline\n",
    "\n",
    "confidenceinterval = 0.95\n",
    "beta  = 1 - confidenceinterval\n",
    "\n",
    "# parameters\n",
    "nobs = 6\n",
    "vb = 3\n",
    "\n",
    "max_obs = 20 # range to compute the Poisson distribution\n",
    "k = np.arange(0, max_obs, 1)\n",
    "\n",
    "def numerator(nobs, vs_up, vb):\n",
    "    N = poisson.pmf(k, vs_up + vb)\n",
    "    sum = 0\n",
    "    for i in range(nobs+1): # range stops at nobs -1\n",
    "        sum+=N[i]\n",
    "    return sum\n",
    "\n",
    "def denominator(vb):\n",
    "    N = poisson.pmf(k, vb)\n",
    "    sum = 0\n",
    "    for i in range(nobs+1): # range stops at nobs -1\n",
    "        sum+=N[i]\n",
    "    return sum\n",
    "\n",
    "# Compute upper boundary\n",
    "vs_up = 0\n",
    "s = 0\n",
    "scan_step = 0.01\n",
    "ck = True\n",
    "while (vs_up < 2000) and (ck):\n",
    "    vs_up = s * scan_step\n",
    "    # print (\"\\nSignal = \", Signal)\n",
    "\n",
    "    ratio = numerator(nobs, vs_up, vb)/denominator(vb)\n",
    "    if (ratio < beta):\n",
    "        ck = False\n",
    "        # print (Signal, sum)\n",
    "    s+=1\n",
    "\n",
    "print (\"95% CL Upper limit on Nobs = \", nobs, \" with an expected background vb = \",vb, \"\\nvs_up = \", vs_up)"
   ]
  },
  {
   "cell_type": "code",
   "execution_count": 19,
   "metadata": {
    "scrolled": false
   },
   "outputs": [
    {
     "name": "stdout",
     "output_type": "stream",
     "text": [
      "95% CL Upper limit on Nobs =  6\n",
      "vb = 0.00  vs_up = 11.90\n",
      "vb = 1.00  vs_up = 10.90\n",
      "vb = 2.00  vs_up = 9.90\n",
      "vb = 3.00  vs_up = 9.00\n",
      "vb = 4.00  vs_up = 8.10\n",
      "vb = 5.00  vs_up = 7.40\n",
      "vb = 6.00  vs_up = 6.80\n",
      "vb = 7.00  vs_up = 6.30\n",
      "vb = 8.00  vs_up = 5.90\n",
      "vb = 9.00  vs_up = 5.60\n",
      "vb = 10.00  vs_up = 5.30\n",
      "vb = 11.00  vs_up = 5.10\n",
      "vb = 12.00  vs_up = 4.90\n"
     ]
    },
    {
     "data": {
      "image/png": "[encoded data removed]",
      "text/plain": [
       "<Figure size 432x288 with 1 Axes>"
      ]
     },
     "metadata": {
      "needs_background": "light"
     },
     "output_type": "display_data"
    }
   ],
   "source": [
    "import numpy as np\n",
    "from scipy.stats import poisson\n",
    "import matplotlib.pyplot as plt\n",
    "from math import exp\n",
    "%matplotlib inline\n",
    "\n",
    "confidenceinterval = 0.95\n",
    "beta  = 1 - confidenceinterval\n",
    "\n",
    "# parameters\n",
    "nobs = 6\n",
    "vb_min = 0\n",
    "vb_max = 12\n",
    "\n",
    "max_obs = 20 # range to compute the Poisson distribution\n",
    "k = np.arange(0, max_obs, 1)\n",
    "\n",
    "def numerator(nobs, vs_up, vb):\n",
    "    N = poisson.pmf(k, vs_up + vb)\n",
    "    sum = 0\n",
    "    for i in range(nobs+1): # range stops at nobs -1\n",
    "        sum+=N[i]\n",
    "    return sum\n",
    "\n",
    "def denominator(vb):\n",
    "    N = poisson.pmf(k, vb)\n",
    "    sum = 0\n",
    "    for i in range(nobs+1): # range stops at nobs -1\n",
    "        sum+=N[i]\n",
    "    return sum\n",
    "\n",
    "# Compute upper boundaries\n",
    "\n",
    "v_vs_up = []\n",
    "v_vb    = []\n",
    "\n",
    "print (\"95% CL Upper limit on Nobs = \", nobs)\n",
    "\n",
    "nsteps = 12\n",
    "scan_step = 0.1\n",
    "for i in range(nsteps+1):    \n",
    "    vb = vb_min + i/nsteps*(vb_max-vb_min)\n",
    "    \n",
    "    vs_up = 0\n",
    "    s=0\n",
    "    ck = True\n",
    "    while (vs_up < 2000) and (ck):\n",
    "        vs_up = s * scan_step\n",
    "        ratio = numerator(nobs, vs_up, vb)/denominator(vb)\n",
    "        if (ratio < beta):\n",
    "            ck = False\n",
    "        s+=1\n",
    "    print (\"vb = {:.2f}\".format(vb), \" vs_up = {:.2f}\".format(vs_up))\n",
    "    v_vs_up.append(vs_up)\n",
    "    v_vb.append(vb)\n",
    "\n",
    "plt.plot(v_vb, v_vs_up, 'b-')\n",
    "plt.axis([0,12,0,12])\n",
    "plt.xticks(np.arange(0, 13, 1.0))\n",
    "plt.yticks(np.arange(0, 13, 1.0))\n",
    "\n",
    "plt.grid()\n",
    "plt.show()\n",
    "\n"
   ]
  },
  {
   "cell_type": "code",
   "execution_count": null,
   "metadata": {},
   "outputs": [],
   "source": []
  }
 ],
 "metadata": {
  "kernelspec": {
   "display_name": "Python 3",
   "language": "python",
   "name": "python3"
  },
  "language_info": {
   "codemirror_mode": {
    "name": "ipython",
    "version": 3
   },
   "file_extension": ".py",
   "mimetype": "text/x-python",
   "name": "python",
   "nbconvert_exporter": "python",
   "pygments_lexer": "ipython3",
   "version": "3.8.5"
  }
 },
 "nbformat": 4,
 "nbformat_minor": 4
}
