{
 "cells": [
  {
   "cell_type": "markdown",
   "metadata": {},
   "source": [
    "# Random Walk\n",
    "\n",
    "Example from Feynman Chapter 6 Vol. 1"
   ]
  },
  {
   "cell_type": "code",
   "execution_count": 1,
   "metadata": {
    "collapsed": true
   },
   "outputs": [],
   "source": [
    "import numpy as np\n",
    "import matplotlib.pyplot as plt\n",
    "%matplotlib inline"
   ]
  },
  {
   "cell_type": "code",
   "execution_count": 2,
   "metadata": {},
   "outputs": [],
   "source": [
    "\n",
    "# number of walks\n",
    "n = 1000\n",
    "\n",
    "# number of steps\n",
    "s = 100\n",
    "\n",
    "# distance from starting point\n",
    "d = []\n",
    "\n",
    "for i in range(0,n):\n",
    "    w = []\n",
    "    x = np.random.uniform(-1,1,s)\n",
    "    for i in range(0,np.size(x)):\n",
    "        if x[i]>0:\n",
    "            w.append(1)\n",
    "        else:\n",
    "            w.append(-1)\n",
    "    d.append(np.sum(w))"
   ]
  },
  {
   "cell_type": "code",
   "execution_count": 4,
   "metadata": {},
   "outputs": [
    {
     "data": {
      "image/png": "[encoded data removed]",
      "text/plain": [
       "<Figure size 432x288 with 1 Axes>"
      ]
     },
     "metadata": {
      "needs_background": "light"
     },
     "output_type": "display_data"
    }
   ],
   "source": [
    "# print d\n",
    "# the histogram of the data\n",
    "n, bins, patches = plt.hist(d, 100, range=[-100,100], density=True, facecolor='green', alpha=0.75)\n",
    "plt.show();"
   ]
  }
 ],
 "metadata": {
  "interpreter": {
   "hash": "812a4947319ff18d1342863a73175ecb805e9a54c66f0eb7b0590365505c6c8f"
  },
  "kernelspec": {
   "display_name": "Python 3",
   "language": "python",
   "name": "python3"
  },
  "language_info": {
   "codemirror_mode": {
    "name": "ipython",
    "version": 3
   },
   "file_extension": ".py",
   "mimetype": "text/x-python",
   "name": "python",
   "nbconvert_exporter": "python",
   "pygments_lexer": "ipython3",
   "version": "3.8.5"
  }
 },
 "nbformat": 4,
 "nbformat_minor": 1
}
