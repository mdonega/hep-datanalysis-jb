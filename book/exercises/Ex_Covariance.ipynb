{
 "cells": [
  {
   "cell_type": "markdown",
   "metadata": {},
   "source": [
    "# Exercises on Covariance and Correlation"
   ]
  },
  {
   "cell_type": "markdown",
   "metadata": {},
   "source": [
    "**1) Covariance**\n",
    "\n",
    "Prove mathematically and numerically the correlation formula for $N\\rightarrow\\infty$:\n",
    "\n",
    "$$ Cov(x,y)=\\frac{1}{N-1}\\sum_{i=1}^{N}(x_i -\\bar{x})(y_i -\\bar{y}) = ... = \\overline{xy} - \\bar{x}\\bar{y}$$\n",
    "\n",
    "What happens if $N=1$ and for small values of $N$ ($N<100$)?\n"
   ]
  },
  {
   "cell_type": "code",
   "execution_count": null,
   "metadata": {},
   "outputs": [],
   "source": []
  },
  {
   "cell_type": "markdown",
   "metadata": {},
   "source": [
    "**2) Correlation**\n",
    "\n",
    "An advanced satellite performs a simultaneous observation of X-ray and radio spectrum of a Pulsar for a period of 10 hours. A radio-telescope on earth is also monitoring the radio spectrum but it has older instruments and higher noise."
   ]
  },
  {
   "cell_type": "code",
   "execution_count": 7,
   "metadata": {},
   "outputs": [
    {
     "data": {
      "text/html": [
       "<div>\n",
       "<style scoped>\n",
       "    .dataframe tbody tr th:only-of-type {\n",
       "        vertical-align: middle;\n",
       "    }\n",
       "\n",
       "    .dataframe tbody tr th {\n",
       "        vertical-align: top;\n",
       "    }\n",
       "\n",
       "    .dataframe thead th {\n",
       "        text-align: right;\n",
       "    }\n",
       "</style>\n",
       "<table border=\"1\" class=\"dataframe\">\n",
       "  <thead>\n",
       "    <tr style=\"text-align: right;\">\n",
       "      <th></th>\n",
       "      <th>time</th>\n",
       "      <th>x-ray pulses</th>\n",
       "      <th>radio pulses satellite</th>\n",
       "      <th>radio pulses laboratory</th>\n",
       "    </tr>\n",
       "  </thead>\n",
       "  <tbody>\n",
       "    <tr>\n",
       "      <th>0</th>\n",
       "      <td>0</td>\n",
       "      <td>4670000.0</td>\n",
       "      <td>173000.0</td>\n",
       "      <td>194000.0</td>\n",
       "    </tr>\n",
       "    <tr>\n",
       "      <th>1</th>\n",
       "      <td>1</td>\n",
       "      <td>6070000.0</td>\n",
       "      <td>224000.0</td>\n",
       "      <td>116000.0</td>\n",
       "    </tr>\n",
       "    <tr>\n",
       "      <th>2</th>\n",
       "      <td>2</td>\n",
       "      <td>4190000.0</td>\n",
       "      <td>160000.0</td>\n",
       "      <td>201000.0</td>\n",
       "    </tr>\n",
       "    <tr>\n",
       "      <th>3</th>\n",
       "      <td>3</td>\n",
       "      <td>4630000.0</td>\n",
       "      <td>164000.0</td>\n",
       "      <td>219000.0</td>\n",
       "    </tr>\n",
       "    <tr>\n",
       "      <th>4</th>\n",
       "      <td>4</td>\n",
       "      <td>6770000.0</td>\n",
       "      <td>243000.0</td>\n",
       "      <td>155000.0</td>\n",
       "    </tr>\n",
       "    <tr>\n",
       "      <th>5</th>\n",
       "      <td>5</td>\n",
       "      <td>3690000.0</td>\n",
       "      <td>126000.0</td>\n",
       "      <td>205000.0</td>\n",
       "    </tr>\n",
       "    <tr>\n",
       "      <th>6</th>\n",
       "      <td>6</td>\n",
       "      <td>5200000.0</td>\n",
       "      <td>191000.0</td>\n",
       "      <td>220000.0</td>\n",
       "    </tr>\n",
       "    <tr>\n",
       "      <th>7</th>\n",
       "      <td>7</td>\n",
       "      <td>4870000.0</td>\n",
       "      <td>158000.0</td>\n",
       "      <td>235000.0</td>\n",
       "    </tr>\n",
       "    <tr>\n",
       "      <th>8</th>\n",
       "      <td>8</td>\n",
       "      <td>5850000.0</td>\n",
       "      <td>222000.0</td>\n",
       "      <td>212000.0</td>\n",
       "    </tr>\n",
       "    <tr>\n",
       "      <th>9</th>\n",
       "      <td>9</td>\n",
       "      <td>4730000.0</td>\n",
       "      <td>167000.0</td>\n",
       "      <td>219000.0</td>\n",
       "    </tr>\n",
       "  </tbody>\n",
       "</table>\n",
       "</div>"
      ],
      "text/plain": [
       "   time  x-ray pulses  radio pulses satellite  radio pulses laboratory\n",
       "0     0     4670000.0                173000.0                 194000.0\n",
       "1     1     6070000.0                224000.0                 116000.0\n",
       "2     2     4190000.0                160000.0                 201000.0\n",
       "3     3     4630000.0                164000.0                 219000.0\n",
       "4     4     6770000.0                243000.0                 155000.0\n",
       "5     5     3690000.0                126000.0                 205000.0\n",
       "6     6     5200000.0                191000.0                 220000.0\n",
       "7     7     4870000.0                158000.0                 235000.0\n",
       "8     8     5850000.0                222000.0                 212000.0\n",
       "9     9     4730000.0                167000.0                 219000.0"
      ]
     },
     "execution_count": 7,
     "metadata": {},
     "output_type": "execute_result"
    }
   ],
   "source": [
    "import numpy as np\n",
    "import pandas as pd\n",
    "\n",
    "time = np.arange(0, 10)\n",
    "XrayPulses = np.array([4.67, 6.07, 4.19, 4.63, 6.77, 3.69, 5.20, 4.87, 5.85, 4.73])\n",
    "RadioPulsesSat = np.array([1.73, 2.24, 1.60, 1.64, 2.43, 1.26, 1.91, 1.58, 2.22, 1.67])\n",
    "RadioPulsesLab = np.array([1.94, 1.16, 2.01, 2.19, 1.55, 2.05, 2.20, 2.35, 2.12, 2.19])\n",
    "\n",
    "XrayPulses *= 10**6\n",
    "RadioPulsesSat *= 10**5\n",
    "RadioPulsesLab *= 10**5\n",
    "\n",
    "data = {\n",
    "    \"time\": time,\n",
    "    \"x-ray pulses\": XrayPulses,\n",
    "    \"radio pulses satellite\": RadioPulsesSat,\n",
    "    \"radio pulses laboratory\": RadioPulsesLab,\n",
    "}\n",
    "\n",
    "df = pd.DataFrame(data)\n",
    "df"
   ]
  },
  {
   "cell_type": "markdown",
   "metadata": {},
   "source": [
    "**3.1)**  Compute the covariance and the correlation factor of the x-ray pulses and the radio pulses from satellite. \n",
    "\n",
    "Is there any evidence of correlation between radio pulses and X-Rays? If so try to see if there’s still correlation between the X-Ray pulses and the Radio pulses recorded by the second radio-telescope (the one on Earth), and verify that the correlation of data of the two radio-telescope give the same result.\n",
    "\n",
    "Do you expect any correlation between the time and the data from the satellite or the telescope? Answer by computing the correlation between time and Xray or radio pulses.\n",
    "\n",
    "**3.2)** Fill the x-ray pulses and the radio pulses data into a 2D histogram, get the correlation and the covariance from the histogram and compare it with the calculated one. The difference with respect to (2.1) is that here your data are binned.\n",
    "\n",
    "Comment on the information loss from unbinned to binned data for the calculation of covariance/correlation and discuss the limit for which unbinned and binned data reach the same result\n",
    "\n",
    "**Note**: getting correlation and covariance from the histogram means computing these quantities using the average values of the bins.\n"
   ]
  },
  {
   "cell_type": "code",
   "execution_count": null,
   "metadata": {},
   "outputs": [],
   "source": []
  }
 ],
 "metadata": {
  "kernelspec": {
   "display_name": "Python 3",
   "language": "python",
   "name": "python3"
  },
  "language_info": {
   "codemirror_mode": {
    "name": "ipython",
    "version": 3
   },
   "file_extension": ".py",
   "mimetype": "text/x-python",
   "name": "python",
   "nbconvert_exporter": "python",
   "pygments_lexer": "ipython3",
   "version": "3.8.5"
  }
 },
 "nbformat": 4,
 "nbformat_minor": 4
}
