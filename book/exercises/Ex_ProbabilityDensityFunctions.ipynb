{
 "cells": [
  {
   "cell_type": "markdown",
   "metadata": {},
   "source": [
    "# Exercises on Probability Density Functions"
   ]
  },
  {
   "cell_type": "markdown",
   "metadata": {},
   "source": [
    "**1) Maxwell Distribution**\n",
    "\n",
    "The p.d.f. for the molecular velocity $v$ (absolute value) in an ideal gas at the absolute Temperature $T$ is given by the Maxwell–Boltzmann distribution:\n",
    "\n",
    "$$\n",
    "f(v,T,m)=\\frac{dN}{N}=\\left( \\frac{m}{2\\pi kT} \\right)^{3/2} e^{-\\frac{mv^2}{2kT}}\\cdot 4\\pi v^2 \n",
    "$$\n",
    "\n",
    "With $m$ being the mass of a molecule, $k=1.38\\cdot10^{-23}$ J/K the Boltzmann’s constant and $N$ the total number of considered particles. Some of the properties of this distribution are: <br>\n",
    " - mode: $\\sqrt{\\frac{2kT}{m}}$ \n",
    " - mean: $\\sqrt{\\frac{8kT}{\\pi m}}$ \n",
    " - RMS: $\\sqrt{\\frac{3kT}{m}}$\n",
    "\n",
    "Histogram the 50k values from the file\n",
    "maxwell.txt (8 digit ascii-file after unzipping). The data was generated for $N_2$ molecules ($m = 4.65 \\cdot 10^{-26}$ kg at $T= 300$ K). \n",
    "\n",
    "**1.1)** Plot the p.d.f. on top of this histogram (do this also for T=600K).\n",
    "\n",
    "**1.2)** Comment on the difference for mean, mode, variance extracted from data (both binned and unbinned) and the table table below. How do the results depend on the number of bins you choose? Can you compute the mode with unbinned data?\n"
   ]
  },
  {
   "cell_type": "code",
   "execution_count": null,
   "metadata": {},
   "outputs": [],
   "source": []
  },
  {
   "cell_type": "markdown",
   "metadata": {},
   "source": [
    "**2) Gaussian**\n",
    "\n",
    "The energy of a certain particle is described by Gaussian distribution with $\\mu = 200$ GeV and $\\sigma = 2$ GeV. Draw the distribution and compute the following probabilities:\\\n",
    "4.2.1) to produce a new particle with an energy of 205 GeV or more\\\n",
    "4.2.2) to produce a new particle with an energy between 199 and 201 GeV\\\n",
    "4.2.3) to independently produce two new particles with energies above 203 GeV"
   ]
  },
  {
   "cell_type": "code",
   "execution_count": null,
   "metadata": {},
   "outputs": [],
   "source": []
  }
 ],
 "metadata": {
  "kernelspec": {
   "display_name": "Python 3",
   "language": "python",
   "name": "python3"
  },
  "language_info": {
   "codemirror_mode": {
    "name": "ipython",
    "version": 3
   },
   "file_extension": ".py",
   "mimetype": "text/x-python",
   "name": "python",
   "nbconvert_exporter": "python",
   "pygments_lexer": "ipython3",
   "version": "3.8.5"
  }
 },
 "nbformat": 4,
 "nbformat_minor": 2
}
