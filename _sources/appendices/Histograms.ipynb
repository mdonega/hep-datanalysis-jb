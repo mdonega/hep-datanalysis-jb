{
 "cells": [
  {
   "cell_type": "markdown",
   "id": "259b94b8",
   "metadata": {},
   "source": [
    "# Histograms\n",
    "\n",
    "Histograms are used to represent graphically the frequency of a set of measurements.\n",
    "\n",
    "See the matplotlib user manual for more details: https://matplotlib.org/stable/api/_as_gen/matplotlib.pyplot.hist.html"
   ]
  },
  {
   "cell_type": "code",
   "execution_count": 42,
   "id": "6161b293",
   "metadata": {},
   "outputs": [
    {
     "name": "stdout",
     "output_type": "stream",
     "text": [
      "Entries = [0.   0.   0.   0.   0.04 0.04 0.1  0.18 0.38 0.34 0.52 0.16 0.2  0.04\n",
      " 0.   0.   0.   0.   0.   0.  ]\n",
      "Bin boundaries = [-5.  -4.5 -4.  -3.5 -3.  -2.5 -2.  -1.5 -1.  -0.5  0.   0.5  1.   1.5\n",
      "  2.   2.5  3.   3.5  4.   4.5  5. ]\n"
     ]
    },
    {
     "data": {
      "image/png": "[encoded data removed]",
      "text/plain": [
       "<Figure size 432x432 with 1 Axes>"
      ]
     },
     "metadata": {
      "needs_background": "light"
     },
     "output_type": "display_data"
    }
   ],
   "source": [
    "import numpy\n",
    "import matplotlib.pyplot as plt\n",
    "%matplotlib inline\n",
    "\n",
    "data = [-1.17, -1.23, -2.94, 0.36, -0.63,  0.09, -0.42, -0.39,  1.03, -1., \n",
    " 1.12,  0.25, -0.84,  0.47,  0.42, -0.15,  1.36, -0.7,  -0.71,  \n",
    " 0.13, -0.77,  0.44,  0.41, -0.52, -0.59,  0.25, -0.69, -1.34, -0.96,  \n",
    " 0.17, -1.78,  0.08,  0.53,  0.35, -1.37, -0.05, -0.24, -0.36,  1.49,  \n",
    " 0.16,  1.26, -0.08,  1.25,  0.19,  1.37,  0.96, -1.45,  0.11,  1.67,  \n",
    " 1.28, -0.61, -0.43, -1.01,  0.11,  0.59, -0.62,  0.21,  0.94, -0.88, \n",
    " -0.95, -0.65, -0.42, -1.24,  0.53, -0.38, -1.05, -1.68, -1.95, -1.07,  \n",
    " 0.38,  0.09, -0.24, -1.74,  0.23,  0.11,  0.9,   0.07, -0.45,  0.25,  \n",
    " 1.81,  0.23,  0.01, -2.77, -0.14,  0.26, -0.73, -1.82, -0.52, -0.1,  \n",
    " -0.5,   0.79, -0.74,  1.2,   1.,   -0.5,  -2.19, -2.01, -0.86, -0.41,  0.8 ]\n",
    "\n",
    "\n",
    "# Define range and number of bins\n",
    "min_range = -5\n",
    "max_range = 5\n",
    "num_bins = 20\n",
    "\n",
    "# Normalized to unit area ?\n",
    "norm = True\n",
    "\n",
    "# Plot histogram\n",
    "plt.figure(figsize=[6,6])\n",
    "entries, bin_boundaries, patches = plt.hist(data, bins=num_bins, range=(min_range, max_range), facecolor='green', density=norm)\n",
    "\n",
    "print (\"Entries =\", entries)\n",
    "print (\"Bin boundaries =\", bin_boundaries)\n",
    "\n",
    "plt.title('Histogram of Data Points')\n",
    "plt.xlabel('Data Points')\n",
    "plt.ylabel('Frequency')\n",
    "plt.show()"
   ]
  },
  {
   "cell_type": "markdown",
   "id": "19e80237-4609-470a-9163-c9998d1c2f03",
   "metadata": {},
   "source": [
    "Any time you in your data you lose information: data are now represented by a vector of size nbins.\n",
    "On the other hand you can see this as a simple (lossy) information compression.\n",
    "\n",
    "Physical example of bins: Galton machine https://en.wikipedia.org/wiki/Galton_board"
   ]
  },
  {
   "cell_type": "code",
   "execution_count": null,
   "id": "429fca34-b5e6-4603-9e5c-ce0df68486ea",
   "metadata": {},
   "outputs": [],
   "source": []
  }
 ],
 "metadata": {
  "kernelspec": {
   "display_name": "Python 3 (ipykernel)",
   "language": "python",
   "name": "python3"
  },
  "language_info": {
   "codemirror_mode": {
    "name": "ipython",
    "version": 3
   },
   "file_extension": ".py",
   "mimetype": "text/x-python",
   "name": "python",
   "nbconvert_exporter": "python",
   "pygments_lexer": "ipython3",
   "version": "3.12.2"
  }
 },
 "nbformat": 4,
 "nbformat_minor": 5
}
