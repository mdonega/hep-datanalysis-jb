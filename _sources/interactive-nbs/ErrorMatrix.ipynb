{
 "cells": [
  {
   "cell_type": "markdown",
   "metadata": {},
   "source": [
    "# Interactive Example - Error Matrix"
   ]
  },
  {
   "cell_type": "code",
   "execution_count": 61,
   "metadata": {},
   "outputs": [],
   "source": [
    "from ipywidgets import interactive\n",
    "import ipywidgets as widgets\n",
    "import numpy as np\n",
    "import matplotlib.pyplot as plt\n",
    "from matplotlib.patches import Rectangle\n",
    "from math import degrees"
   ]
  },
  {
   "cell_type": "code",
   "execution_count": 96,
   "metadata": {},
   "outputs": [],
   "source": [
    "def draw_ellipses(theta, sigma_x, sigma_y):\n",
    "    fig, ax = plt.subplots(figsize=(10, 10))\n",
    "\n",
    "    # Parameter\n",
    "    t = np.linspace(0, 2*np.pi, 100)\n",
    "    \n",
    "    # Ellipse one\n",
    "    ellipse = np.array([sigma_x*np.cos(t), sigma_y*np.sin(t)])\n",
    "    x, y = ellipse\n",
    "    ax.plot(x, y, color='b')\n",
    "\n",
    "    # Draw first rectangle\n",
    "    rectangle = Rectangle((-sigma_x, -sigma_y), 2*sigma_x, 2*sigma_y, color='b', fill=False)\n",
    "    ax.add_patch(rectangle)\n",
    "\n",
    "    # Ellipse two\n",
    "    rot = np.array([[np.cos(theta) , -np.sin(theta)],[np.sin(theta) , np.cos(theta)]])\n",
    "    ellipse_rot = np.dot(rot, ellipse)\n",
    "    x_rot, y_rot = ellipse_rot\n",
    "    ax.plot(x_rot, y_rot, color='r')\n",
    "\n",
    "    # Draw second rectangle\n",
    "    inverse_error_matrix = np.array([[1/sigma_x**2, 0], [0, 1/sigma_y**2]])\n",
    "    inverse_error_matrix_rot = np.dot(np.linalg.inv(rot), np.dot(inverse_error_matrix, rot))\n",
    "    error_matrix_rot = np.linalg.inv(inverse_error_matrix_rot)\n",
    "    x_rectangle_rot = np.sqrt(error_matrix_rot[0, 0])\n",
    "    y_rectangle_rot = np.sqrt(error_matrix_rot[1, 1])\n",
    "    rectangle_rot = Rectangle((-x_rectangle_rot, -y_rectangle_rot), 2*x_rectangle_rot, 2*y_rectangle_rot, color='r', fill=False)\n",
    "    ax.add_patch(rectangle_rot)\n",
    "\n",
    "    # Draw axes\n",
    "    smpl = np.linspace(-0.55, 0.55, 100)\n",
    "    ax.plot(smpl, np.zeros(len(smpl)), color='k', alpha=0.6)\n",
    "    ax.plot(np.zeros(len(smpl)), smpl, color='k', alpha=0.6)\n",
    "\n",
    "    # Draw annotations\n",
    "    ax.annotate(f'$\\sigma_x = {sigma_x}$', xy=(sigma_x, 0), color='b', fontsize=16)\n",
    "    ax.annotate(f'$\\sigma_y = {sigma_y}$', xy=(0, sigma_y), color='b', fontsize=16)\n",
    "    ax.annotate('$\\sigma_x\\prime = {:.2f}$'.format(x_rectangle_rot), xy=(x_rectangle_rot, 0), color='r', fontsize=16)\n",
    "    ax.annotate('$\\sigma_y\\prime = {:.2f}$'.format(y_rectangle_rot), xy=(0, y_rectangle_rot), color='r', fontsize=16)\n",
    "\n",
    "    # Decorate\n",
    "    min = -0.55\n",
    "    max = 0.55\n",
    "    major_tickes = np.arange(min, max, 0.1)\n",
    "    minor_tickes = np.arange(min, max, 0.01)\n",
    "    ax.set_xticks(major_tickes)\n",
    "    ax.set_xticks(minor_tickes, minor=True)\n",
    "    ax.set_yticks(major_tickes)\n",
    "    ax.set_yticks(minor_tickes, minor=True)\n",
    "    ax.grid(True, alpha=0.2, which=\"both\")\n",
    "    ax.set_xlim(min, max)\n",
    "    ax.set_ylim(min, max)\n",
    "\n",
    "    plt.show();"
   ]
  },
  {
   "cell_type": "code",
   "execution_count": 97,
   "metadata": {},
   "outputs": [
    {
     "data": {
      "application/vnd.jupyter.widget-view+json": {
       "model_id": "8f9589014a9b4f5d988c5ccd9c7942ab",
       "version_major": 2,
       "version_minor": 0
      },
      "text/plain": [
       "interactive(children=(FloatSlider(value=0.7853981633974483, description='theta', max=6.283185307179586, step=0…"
      ]
     },
     "metadata": {},
     "output_type": "display_data"
    }
   ],
   "source": [
    "slider_plots = interactive(\n",
    "    draw_ellipses,\n",
    "    theta = widgets.FloatSlider(\n",
    "        value=np.pi/4,\n",
    "        min=0,\n",
    "        max=2*np.pi,\n",
    "        step=0.01,\n",
    "        description='theta',\n",
    "    ),\n",
    "    sigma_x = widgets.FloatSlider(\n",
    "        value=0.25,\n",
    "        min=0.1,\n",
    "        max=0.5,\n",
    "        step=0.01,\n",
    "        description='sigma_x',\n",
    "    ),\n",
    "    sigma_y = widgets.FloatSlider(\n",
    "        value=0.5,\n",
    "        min=0.1,\n",
    "        max=0.5,\n",
    "        step=0.01,\n",
    "        description='sigma_y',\n",
    "    )\n",
    ")\n",
    "display(slider_plots)"
   ]
  }
 ],
 "metadata": {
  "interpreter": {
   "hash": "66967b523d1b932d6ec2d9a652b8c475bdc1561c84715340ba09531003270d1e"
  },
  "kernelspec": {
   "display_name": "Python 3.9.9 64-bit ('stamet-jb': conda)",
   "language": "python",
   "name": "python3"
  },
  "language_info": {
   "codemirror_mode": {
    "name": "ipython",
    "version": 3
   },
   "file_extension": ".py",
   "mimetype": "text/x-python",
   "name": "python",
   "nbconvert_exporter": "python",
   "pygments_lexer": "ipython3",
   "version": "3.10.2"
  },
  "orig_nbformat": 4
 },
 "nbformat": 4,
 "nbformat_minor": 2
}
