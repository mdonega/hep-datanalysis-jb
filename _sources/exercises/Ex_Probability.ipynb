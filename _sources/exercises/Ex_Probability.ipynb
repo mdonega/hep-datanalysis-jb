{
 "cells": [
  {
   "cell_type": "markdown",
   "metadata": {},
   "source": [
    "# Exercises on Probability"
   ]
  },
  {
   "cell_type": "markdown",
   "metadata": {},
   "source": [
    "**1) Arithmetic mean**"
   ]
  },
  {
   "cell_type": "markdown",
   "metadata": {},
   "source": [
    "a)  Demonstrate, that the sum of the deviations of set of $N$ numbers $x_i$ from their arithmetic mean $\\bar{x}$ is equals to zero. i.e.\n",
    "$$\\sum_{i=1}^{N} \\varepsilon_i = \\sum_{i=1}^{N}(x-\\bar{x}) = ... = 0$$\n",
    "\n",
    "b) Is this property also true for the continuous case? If so demonstrate it. <br>\n",
    "Hint: the sum of the deviations will now be represented by an integral: <br>\n",
    "$\\tau=\\int_{-\\infty}^{\\infty}(x-\\bar{x})f(x)dx$ where the function $f(x)$ has this property $\\int_{-\\infty}^{\\infty}(x-\\bar{x})f(x)dx=1$\n",
    "\n"
   ]
  },
  {
   "cell_type": "code",
   "execution_count": null,
   "metadata": {},
   "outputs": [],
   "source": []
  },
  {
   "cell_type": "markdown",
   "metadata": {},
   "source": [
    "**2) Tossing coins**\n",
    "\n",
    "A fair coin is tossed eight times. Let the random variable be the number of heads that appear.\n",
    "\n",
    "2.1) What is the probability that exactly 4 heads will appear?\n",
    "\n",
    "2.2) What is the probability that you get either all heads or all tails?\n",
    "\n"
   ]
  },
  {
   "cell_type": "code",
   "execution_count": null,
   "metadata": {},
   "outputs": [],
   "source": []
  }
 ],
 "metadata": {
  "kernelspec": {
   "display_name": "Python 3",
   "language": "python",
   "name": "python3"
  },
  "language_info": {
   "codemirror_mode": {
    "name": "ipython",
    "version": 3
   },
   "file_extension": ".py",
   "mimetype": "text/x-python",
   "name": "python",
   "nbconvert_exporter": "python",
   "pygments_lexer": "ipython3",
   "version": "3.8.5"
  }
 },
 "nbformat": 4,
 "nbformat_minor": 2
}
