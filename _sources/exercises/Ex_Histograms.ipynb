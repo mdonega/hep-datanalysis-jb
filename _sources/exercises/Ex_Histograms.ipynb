{
 "cells": [
  {
   "cell_type": "markdown",
   "metadata": {},
   "source": [
    "# Exercises on Histograms"
   ]
  },
  {
   "cell_type": "markdown",
   "metadata": {},
   "source": [
    "**1) Histograms: basics**"
   ]
  },
  {
   "cell_type": "markdown",
   "metadata": {},
   "source": [
    "We measure the speed for 20 cars, with a car radar which has a resolution of 2km/h: <br>\n",
    "$V_{meas}$[km/h] ={40,50,42,50,40,52,54,46,44,46,46,48,48,50,46,48,44,46,48,50}\n",
    "\n",
    "a) Find the mean, the mode and the median of this distribution, manually first, then with any relevant python tools"
   ]
  },
  {
   "cell_type": "code",
   "execution_count": null,
   "metadata": {},
   "outputs": [],
   "source": []
  },
  {
   "cell_type": "markdown",
   "metadata": {},
   "source": [
    "b) Create an histogram with the proper binning"
   ]
  },
  {
   "cell_type": "code",
   "execution_count": null,
   "metadata": {},
   "outputs": [],
   "source": []
  },
  {
   "cell_type": "markdown",
   "metadata": {},
   "source": [
    "**2) Histograms : advanced**"
   ]
  },
  {
   "cell_type": "markdown",
   "metadata": {},
   "source": [
    "We measure with an instrument the charge (in [nC]) produced by the passage of 40 muons through a gas detector; <br>\n",
    "$Q_{meas}$[nC] = {19.6, 21.0, 19.8, 20.8, 21.3, 21.5, 20.7, 20.1, 21.1, 21.1, 20.4, 20.6, 22.1, 22.4, 21.9, 21.6, 22.2, 22.0, 43.4, 64.2, 22.2, 22.5, 21.9, 21.7, 22.0, 21.9, 22.3, 22.5, 21.8, 21.8, 23.1, 22.9, 22.7, 22.6, 23.1, 22.8, 23.6, 24.1, 44.5, 45.1 };\n",
    "\n",
    "a) Calculate the mean and the variance for the unbinned data."
   ]
  },
  {
   "cell_type": "code",
   "execution_count": null,
   "metadata": {},
   "outputs": [],
   "source": []
  },
  {
   "cell_type": "markdown",
   "metadata": {},
   "source": [
    "b)  Somebody tells you events with more than 30 nC are due to the simultaneous passage\n",
    "of two or more muons. Repeat a) excluding events with charge greater than 30nC.\n",
    "Do the results differ substantially?"
   ]
  },
  {
   "cell_type": "code",
   "execution_count": null,
   "metadata": {},
   "outputs": [],
   "source": []
  },
  {
   "cell_type": "markdown",
   "metadata": {},
   "source": [
    "c)  Calculate also the skew of the two distributions (with and without the high charge\n",
    "events)."
   ]
  },
  {
   "cell_type": "code",
   "execution_count": null,
   "metadata": {},
   "outputs": [],
   "source": []
  },
  {
   "cell_type": "markdown",
   "metadata": {},
   "source": [
    "d)  Plot  3  histograms  in  the  range  from  18  to  25  nC  with  bin  width  of  1,  0.5,  0.2nC.\n",
    "Compare qualitatively the structures of these 3 histograms."
   ]
  },
  {
   "cell_type": "code",
   "execution_count": null,
   "metadata": {},
   "outputs": [],
   "source": []
  }
 ],
 "metadata": {
  "kernelspec": {
   "display_name": "Python 3",
   "language": "python",
   "name": "python3"
  },
  "language_info": {
   "codemirror_mode": {
    "name": "ipython",
    "version": 3
   },
   "file_extension": ".py",
   "mimetype": "text/x-python",
   "name": "python",
   "nbconvert_exporter": "python",
   "pygments_lexer": "ipython3",
   "version": "3.8.5"
  }
 },
 "nbformat": 4,
 "nbformat_minor": 2
}
