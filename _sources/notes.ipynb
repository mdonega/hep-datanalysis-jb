{
 "cells": [
  {
   "cell_type": "markdown",
   "metadata": {},
   "source": [
    "## Formatting\n",
    "- centre / left equations\n",
    "\n",
    "## Probability\n",
    "\n",
    "- random variable distribution instead of probability distribution / link between the two\n",
    "- difference between a random variable X and its realization x\n",
    "- Sampling form a distriution $X \\sim p_X$ / Not much used in the skript but useful for ML\n",
    "- probability mass function and probability density function (discrete / continuous)\n",
    "- p(x) can be greater than 1 for continuous vars\n",
    "- cumulative distribution in n-dim relation to joint distribution\n",
    "- conditional probability re-normalized to 1 - the denominator has changed you need to do that..."
   ]
  },
  {
   "cell_type": "markdown",
   "metadata": {},
   "source": [
    "ROOT data analysis Anna: http://dpnc.unige.ch/~sfyrla/teaching/Statistics/handsOn1.html"
   ]
  },
  {
   "cell_type": "markdown",
   "metadata": {},
   "source": [
    "## Appendix: \n",
    "\n",
    "- Stewart Tackmann procedure / Correlation of muF/muR a` la Thomas\n",
    "- "
   ]
  },
  {
   "cell_type": "code",
   "execution_count": null,
   "metadata": {},
   "outputs": [],
   "source": []
  }
 ],
 "metadata": {
  "kernelspec": {
   "display_name": "Python 3",
   "language": "python",
   "name": "python3"
  },
  "language_info": {
   "codemirror_mode": {
    "name": "ipython",
    "version": 3
   },
   "file_extension": ".py",
   "mimetype": "text/x-python",
   "name": "python",
   "nbconvert_exporter": "python",
   "pygments_lexer": "ipython3",
   "version": "3.8.5"
  }
 },
 "nbformat": 4,
 "nbformat_minor": 4
}
