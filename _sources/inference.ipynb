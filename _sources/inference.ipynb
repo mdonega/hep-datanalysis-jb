{
 "cells": [
  {
   "cell_type": "markdown",
   "metadata": {},
   "source": [
    "Statistical inference\n",
    "=====================\n",
    "\n",
    "```{margin}\n",
    "Infer = deduce or conclude from evidence and reasoning rather than from explicit statements\n",
    "```\n",
    "Probability and statistics can be considered one as the inverse problem\n",
    "of the other. In the previous chapters we studied what is the theory of\n",
    "probability. Given a probability density function (p.d.f) describing the\n",
    "problem at hand, we can *calculate* in a straightforward way the\n",
    "probability of any outcome. Statistics deals with the inverse problem.\n",
    "Given a set of data which samples an unknown parent distribution it\n",
    "allows to *infer* some characteristics of the parent distribution.\n",
    "\n",
    "The statistical inference gets different names depending on the specific\n",
    "problem to which is applied:\n",
    "\n",
    "-   *parameter estimation*: you have a set of data which you think is\n",
    "    distributed according to a parent distribution and you want to\n",
    "    estimate its parameters (e.g. the parent distribution is a Gaussian\n",
    "    and you want its mean and width). This procedure is also called\n",
    "    *fitting*.\n",
    "\n",
    "-   *hypothesis testing*: you have a set of data and you want to know\n",
    "    whether they are distributed according to some parent distribution\n",
    "    (e.g. you want to accept or reject the hypothesis that your data are\n",
    "    distributed according to a Gaussian distribution)\n",
    "\n",
    "The two problems are clearly intertwined: it doesn't make sense to\n",
    "perform a parameter estimation without an hypothesis on the p.d.f. to be\n",
    "tested and often in order to accept or reject that data are distributed\n",
    "according to a p.d.f. we need to estimate its parameters.\\\n",
    "\\\n",
    "In order to proceed further in the treatment of statistical inference we\n",
    "define what we mean by statistics. *A statistic is any function of the\n",
    "data sample*. Being a function of random variables the statistics is\n",
    "itself a random variable and its p.d.f. is usually called the *sampling\n",
    "distribution* of sampling p.d.f., to distinguish it from the *parent\n",
    "distribution*. A statistic does not depend on any of the characteristics\n",
    "of the unknown parent distribution. Examples of statistics are the mean\n",
    "of a sample or even just the data themselves.\\\n",
    "The two approaches to the probability theory, frequentist and bayesian,\n",
    "give rise to two approaches to statistical inference, bayesian\n",
    "statistics and frequentist statistics. In the next chapters, we will\n",
    "discuss the implications of the two approaches will be.\n",
    "\n"
   ]
  },
  {
   "cell_type": "code",
   "execution_count": null,
   "metadata": {},
   "outputs": [],
   "source": []
  }
 ],
 "metadata": {
  "kernelspec": {
   "display_name": "Python 3",
   "language": "python",
   "name": "python3"
  },
  "language_info": {
   "codemirror_mode": {
    "name": "ipython",
    "version": 3
   },
   "file_extension": ".py",
   "mimetype": "text/x-python",
   "name": "python",
   "nbconvert_exporter": "python",
   "pygments_lexer": "ipython3",
   "version": "3.8.5"
  }
 },
 "nbformat": 4,
 "nbformat_minor": 4
}
